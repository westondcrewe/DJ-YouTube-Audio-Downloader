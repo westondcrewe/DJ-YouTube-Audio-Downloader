{
 "cells": [
  {
   "cell_type": "code",
   "execution_count": 4,
   "metadata": {},
   "outputs": [
    {
     "name": "stdout",
     "output_type": "stream",
     "text": [
      "Extracted 11 songs into songs.txt\n"
     ]
    }
   ],
   "source": [
    "from PIL import Image\n",
    "import pytesseract\n",
    "import datetime\n",
    "\n",
    "def ocr_playlist_image(image_path):\n",
    "    # Load image\n",
    "    img = Image.open(image_path)\n",
    "\n",
    "    # Run OCR - you can experiment with psm and oem modes for better results\n",
    "    # psm 6 = Assume a single uniform block of text\n",
    "    text = pytesseract.image_to_string(img, config='--psm 6')\n",
    "\n",
    "    lines = [line.strip() for line in text.split('\\n') if line.strip()]\n",
    "    \n",
    "    songs = []\n",
    "    # Simple heuristic: pair every two lines as Title + Artist\n",
    "    for i in range(0, len(lines)-1, 2):\n",
    "        title = lines[i]\n",
    "        artist = lines[i+1]\n",
    "        songs.append(f\"{title} | {artist}\\n\")\n",
    "\n",
    "    return songs\n",
    "\n",
    "if __name__ == \"__main__\":\n",
    "    screenshot_path = \"playlist_screenshot.png\"\n",
    "    extracted_songs = ocr_playlist_image(screenshot_path)\n",
    "\n",
    "    current_datetime = datetime.datetime.now()\n",
    "    datetime_string = current_datetime.strftime(\"_%Y-%m-%d_%H:%M:%S\")\n",
    "    output_filename = \"songs/songs\" + datetime_string + \".txt\"\n",
    "    with open(output_filename, \"w\") as f:\n",
    "        for song in extracted_songs:\n",
    "            f.write(song + \"\\n\")\n",
    "\n",
    "    print(f\"Extracted {len(extracted_songs)} songs into songs.txt\")\n"
   ]
  }
 ],
 "metadata": {
  "kernelspec": {
   "display_name": "Python 3",
   "language": "python",
   "name": "python3"
  },
  "language_info": {
   "codemirror_mode": {
    "name": "ipython",
    "version": 3
   },
   "file_extension": ".py",
   "mimetype": "text/x-python",
   "name": "python",
   "nbconvert_exporter": "python",
   "pygments_lexer": "ipython3",
   "version": "3.12.4"
  }
 },
 "nbformat": 4,
 "nbformat_minor": 2
}
