{
 "cells": [
  {
   "cell_type": "code",
   "execution_count": 8,
   "metadata": {},
   "outputs": [
    {
     "name": "stderr",
     "output_type": "stream",
     "text": [
      "WARNING: [youtube] 37AM1R-hDdY: Some web client https formats have been skipped as they are missing a url. YouTube is forcing SABR streaming for this client. See  https://github.com/yt-dlp/yt-dlp/issues/12482  for more details\n",
      "[download] Got error: HTTP Error 403: Forbidden\n",
      "WARNING: Unable to download format 616. Skipping...\n",
      "[download] Got error: HTTP Error 403: Forbidden\n",
      "WARNING: Unable to download format 614. Skipping...\n",
      "[download] Got error: HTTP Error 403: Forbidden\n",
      "WARNING: Unable to download format 270. Skipping...\n",
      "[download] Got error: HTTP Error 403: Forbidden\n",
      "WARNING: Unable to download format 609. Skipping...\n",
      "[download] Got error: HTTP Error 403: Forbidden\n",
      "WARNING: Unable to download format 232. Skipping...\n",
      "[download] Got error: HTTP Error 403: Forbidden\n",
      "WARNING: Unable to download format 606. Skipping...\n",
      "[download] Got error: HTTP Error 403: Forbidden\n",
      "WARNING: Unable to download format 231. Skipping...\n",
      "[download] Got error: HTTP Error 403: Forbidden\n",
      "WARNING: Unable to download format 605. Skipping...\n",
      "[download] Got error: HTTP Error 403: Forbidden\n",
      "WARNING: Unable to download format 234. Skipping...\n",
      "[download] Got error: HTTP Error 403: Forbidden\n",
      "WARNING: Unable to download format 233. Skipping...\n"
     ]
    },
    {
     "name": "stdout",
     "output_type": "stream",
     "text": [
      "Jamback - ID\n",
      " → https://www.youtube.com/watch?v=37AM1R-hDdY\n",
      "Chris Stussy - Unreleased Brasil Edit\n",
      " → https://www.youtube.com/watch?v=ueltGC-O2Gs\n",
      "Chris Stussy - Midtown Playground\n",
      " → https://www.youtube.com/watch?v=mq-sehhkgUE\n",
      "Chris Stussy - Riva de Biasio\n",
      " → https://www.youtube.com/watch?v=YMRUsEEkHGE\n"
     ]
    },
    {
     "name": "stderr",
     "output_type": "stream",
     "text": [
      "WARNING: [youtube] Chn5b0q3kvk: Some web client https formats have been skipped as they are missing a url. YouTube is forcing SABR streaming for this client. See  https://github.com/yt-dlp/yt-dlp/issues/12482  for more details\n",
      "[download] Got error: HTTP Error 403: Forbidden\n",
      "WARNING: Unable to download format 625. Skipping...\n",
      "[download] Got error: HTTP Error 403: Forbidden\n",
      "WARNING: Unable to download format 620. Skipping...\n",
      "[download] Got error: HTTP Error 403: Forbidden\n",
      "WARNING: Unable to download format 614. Skipping...\n",
      "[download] Got error: HTTP Error 403: Forbidden\n",
      "WARNING: Unable to download format 270. Skipping...\n",
      "[download] Got error: HTTP Error 403: Forbidden\n",
      "WARNING: Unable to download format 609. Skipping...\n",
      "[download] Got error: HTTP Error 403: Forbidden\n",
      "WARNING: Unable to download format 232. Skipping...\n",
      "[download] Got error: HTTP Error 403: Forbidden\n",
      "WARNING: Unable to download format 606. Skipping...\n",
      "[download] Got error: HTTP Error 403: Forbidden\n",
      "WARNING: Unable to download format 231. Skipping...\n",
      "[download] Got error: HTTP Error 403: Forbidden\n",
      "WARNING: Unable to download format 605. Skipping...\n",
      "[download] Got error: HTTP Error 403: Forbidden\n",
      "WARNING: Unable to download format 234. Skipping...\n",
      "[download] Got error: HTTP Error 403: Forbidden\n",
      "WARNING: Unable to download format 233. Skipping...\n"
     ]
    },
    {
     "name": "stdout",
     "output_type": "stream",
     "text": [
      "Chris Lorenzo, Max Styler, Audio Bullys - London's On Fire → https://www.youtube.com/watch?v=Chn5b0q3kvk\n"
     ]
    }
   ],
   "source": [
    "import yt_dlp\n",
    "import datetime\n",
    "\n",
    "def get_first_youtube_result(query):\n",
    "    ydl_opts = {'quiet': True, 'skip_download': True}\n",
    "    with yt_dlp.YoutubeDL(ydl_opts) as ydl:\n",
    "        info = ydl.extract_info(f\"ytsearch1:{query}\", download=False)\n",
    "        if \"entries\" in info and len(info[\"entries\"]) > 0:\n",
    "            return info[\"entries\"][0][\"webpage_url\"]\n",
    "    return None\n",
    "\n",
    "if __name__ == \"__main__\":\n",
    "    input_filename = \"songs.txt\"\n",
    "    with open(input_filename, 'r') as file:\n",
    "        songs = file.readlines()\n",
    "    urls = \"\"\n",
    "    for song in songs:\n",
    "        # get url (str) and append data to output string\n",
    "        url = get_first_youtube_result(song)\n",
    "        print(f\"{song} → {url}\")\n",
    "        urls += str(url)\n",
    "\n",
    "    # output song url data to txt file\n",
    "    # use datetime data in filename to record run instances for testing and validation\n",
    "    current_datetime = datetime.datetime.now()\n",
    "    datetime_string = current_datetime.strftime(\"_%Y-%m-%d_%H:%M:%S\")\n",
    "    output_filename = \"urls/urls\" + datetime_string + \".txt\"\n",
    "    with open(output_filename, 'w') as f:\n",
    "        f.write(urls)\n"
   ]
  }
 ],
 "metadata": {
  "kernelspec": {
   "display_name": "Python 3",
   "language": "python",
   "name": "python3"
  },
  "language_info": {
   "codemirror_mode": {
    "name": "ipython",
    "version": 3
   },
   "file_extension": ".py",
   "mimetype": "text/x-python",
   "name": "python",
   "nbconvert_exporter": "python",
   "pygments_lexer": "ipython3",
   "version": "3.12.4"
  }
 },
 "nbformat": 4,
 "nbformat_minor": 2
}
