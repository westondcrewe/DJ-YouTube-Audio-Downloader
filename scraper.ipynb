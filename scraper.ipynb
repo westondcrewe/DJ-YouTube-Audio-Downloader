{
 "cells": [
  {
   "cell_type": "code",
   "execution_count": 1,
   "metadata": {},
   "outputs": [
    {
     "name": "stdout",
     "output_type": "stream",
     "text": [
      "[youtube] Extracting URL: https://youtu.be/37AM1R-hDdY\n",
      "[youtube] 37AM1R-hDdY: Downloading webpage\n",
      "[youtube] 37AM1R-hDdY: Downloading tv client config\n",
      "[youtube] 37AM1R-hDdY: Downloading player 010fbc8d-main\n",
      "[youtube] 37AM1R-hDdY: Downloading tv player API JSON\n",
      "[youtube] 37AM1R-hDdY: Downloading ios player API JSON\n"
     ]
    },
    {
     "name": "stderr",
     "output_type": "stream",
     "text": [
      "WARNING: [youtube] 37AM1R-hDdY: Some web client https formats have been skipped as they are missing a url. YouTube is forcing SABR streaming for this client. See  https://github.com/yt-dlp/yt-dlp/issues/12482  for more details\n"
     ]
    },
    {
     "name": "stdout",
     "output_type": "stream",
     "text": [
      "[youtube] 37AM1R-hDdY: Downloading m3u8 information\n",
      "[info] Testing format 234\n",
      "[info] 37AM1R-hDdY: Downloading 1 format(s): 234\n",
      "[hlsnative] Downloading m3u8 manifest\n",
      "[hlsnative] Total fragments: 36\n",
      "[download] Destination: downloads/Jamback - ID (CHRIS STUSSY MOST UNRELEASED TRACK EDIT).mp4\n",
      "[download] 100% of    2.98MiB in 00:00:07 at 387.11KiB/s                \n",
      "[ExtractAudio] Destination: downloads/Jamback - ID (CHRIS STUSSY MOST UNRELEASED TRACK EDIT).mp3\n",
      "Deleting original file downloads/Jamback - ID (CHRIS STUSSY MOST UNRELEASED TRACK EDIT).mp4 (pass -k to keep)\n"
     ]
    }
   ],
   "source": [
    "import yt_dlp\n",
    "\n",
    "def download_audio(url, output_path='.'):\n",
    "    ydl_opts = {\n",
    "        'format': 'bestaudio/best',\n",
    "        'outtmpl': f'{output_path}/%(title)s.%(ext)s',\n",
    "        'postprocessors': [\n",
    "            {  # Convert to mp3\n",
    "                'key': 'FFmpegExtractAudio',\n",
    "                'preferredcodec': 'mp3',\n",
    "                'preferredquality': '192',\n",
    "            }\n",
    "        ]\n",
    "    }\n",
    "\n",
    "    with yt_dlp.YoutubeDL(ydl_opts) as ydl:\n",
    "        ydl.download([url])\n",
    "\n",
    "if __name__ == \"__main__\":\n",
    "    video_url = input(\"Enter YouTube video URL: \")\n",
    "    download_audio(video_url, output_path='downloads')\n"
   ]
  },
  {
   "cell_type": "code",
   "execution_count": 4,
   "metadata": {},
   "outputs": [
    {
     "name": "stdout",
     "output_type": "stream",
     "text": [
      "Starting download of 5 videos using 4 threads...\n"
     ]
    },
    {
     "name": "stderr",
     "output_type": "stream",
     "text": [
      "WARNING: [youtube] 2D0eo0Igy9Y: Some web client https formats have been skipped as they are missing a url. YouTube is forcing SABR streaming for this client. See  https://github.com/yt-dlp/yt-dlp/issues/12482  for more details\n",
      "WARNING: [youtube] 37AM1R-hDdY: Some web client https formats have been skipped as they are missing a url. YouTube is forcing SABR streaming for this client. See  https://github.com/yt-dlp/yt-dlp/issues/12482  for more details\n"
     ]
    },
    {
     "name": "stdout",
     "output_type": "stream",
     "text": [
      "[youtube] Extracting URL: https://www.youtube.com/watch?v=t8nZu2cYhxk Chris Stussy - Midtown Playground\n",
      "[youtube] t8nZu2cYhxk: Downloading webpage\n",
      "✅ Skipped (already exists): Jamback - ID (CHRIS STUSSY MOST UNRELEASED TRACK EDIT)\n",
      "[youtube] Extracting URL: https://www.youtube.com/watch?v=mQAhr-y4704 Chris Stussy - Riva de Biasio\n",
      "[youtube] mQAhr-y4704: Downloading webpage\n",
      "[youtube] Extracting URL: https://www.youtube.com/watch?v=2D0eo0Igy9Y Chris Stussy - Unreleased Brasil Edit\n",
      "[youtube] 2D0eo0Igy9Y: Downloading webpage\n",
      "[youtube] t8nZu2cYhxk: Downloading tv client config\n",
      "[youtube] t8nZu2cYhxk: Downloading tv player API JSON\n",
      "[youtube] mQAhr-y4704: Downloading tv client config\n",
      "[youtube] t8nZu2cYhxk: Downloading ios player API JSON\n",
      "[youtube] 2D0eo0Igy9Y: Downloading tv client config\n",
      "[youtube] mQAhr-y4704: Downloading tv player API JSON\n",
      "[youtube] mQAhr-y4704: Downloading ios player API JSON\n",
      "[youtube] 2D0eo0Igy9Y: Downloading tv player API JSON\n",
      "[youtube] 2D0eo0Igy9Y: Downloading ios player API JSON\n",
      "[youtube] t8nZu2cYhxk: Downloading m3u8 information\n"
     ]
    },
    {
     "name": "stderr",
     "output_type": "stream",
     "text": [
      "WARNING: [youtube] Chn5b0q3kvk: Some web client https formats have been skipped as they are missing a url. YouTube is forcing SABR streaming for this client. See  https://github.com/yt-dlp/yt-dlp/issues/12482  for more details\n"
     ]
    },
    {
     "name": "stdout",
     "output_type": "stream",
     "text": [
      "[info] t8nZu2cYhxk: Downloading 1 format(s): 251\n",
      "[download] Destination: downloads/Midtown Playground.webm\n",
      "[download]   0.0% of    3.54MiB at    6.24KiB/s ETA 09:41"
     ]
    },
    {
     "name": "stderr",
     "output_type": "stream",
     "text": [
      "WARNING: [youtube] 2D0eo0Igy9Y: Some web client https formats have been skipped as they are missing a url. YouTube is forcing SABR streaming for this client. See  https://github.com/yt-dlp/yt-dlp/issues/12482  for more details\n"
     ]
    },
    {
     "name": "stdout",
     "output_type": "stream",
     "text": [
      "[youtube] mQAhr-y4704: Downloading m3u8 information\n",
      "[download]   0.1% of    3.54MiB at   13.74KiB/s ETA 04:23[youtube] 2D0eo0Igy9Y: Downloading m3u8 information\n",
      "[download]  28.2% of    3.54MiB at    4.02MiB/s ETA 00:00[info] mQAhr-y4704: Downloading 1 format(s): 251\n",
      "[info] Testing format 234\n",
      "[download] 100% of    3.54MiB in 00:00:00 at 4.65MiB/s   \n",
      "[ExtractAudio] Destination: downloads/Midtown Playground.mp3\n",
      "[download] Destination: downloads/Riva De Biasio.webm\n",
      "[download]   2.0% of    6.35MiB at  834.04KiB/s ETA 00:07[info] 2D0eo0Igy9Y: Downloading 1 format(s): 234\n",
      "[hlsnative] Downloading m3u8 manifest\n",
      "[youtube] Extracting URL: https://www.youtube.com/watch?v=Chn5b0q3kvk Chris Lorenzo, Max Styler, Audio Bullys - London's On Fire\n",
      "[download]   3.9% of    6.35MiB at    1.12MiB/s ETA 00:05[youtube] Chn5b0q3kvk: Downloading webpage\n",
      "[download]  15.7% of    6.35MiB at    2.94MiB/s ETA 00:01[hlsnative] Total fragments: 53\n",
      "[download] Destination: downloads/UNRELEASED ｜ Chris Stussy - Time Warp, São Paulo.mp4\n",
      "[download] 100% of    6.35MiB in 00:00:01 at 4.90MiB/s   own (frag 2/53)\n",
      "[download]   7.7% of ~   3.51MiB at  305.25KiB/s ETA Unknown (frag 3/53)[ExtractAudio] Destination: downloads/Riva De Biasio.mp3\n",
      "[download]  11.6% of ~   5.28MiB at  529.97KiB/s ETA Unknown (frag 7/53)[youtube] Chn5b0q3kvk: Downloading tv client config\n",
      "[download]  13.4% of ~   5.20MiB at  628.93KiB/s ETA Unknown (frag 8/53)[youtube] Chn5b0q3kvk: Downloading tv player API JSON\n",
      "[download]  19.2% of ~   4.24MiB at  661.05KiB/s ETA 00:05 (frag 9/53)  [youtube] Chn5b0q3kvk: Downloading ios player API JSON\n",
      "[download]  24.9% of ~   4.32MiB at  592.91KiB/s ETA 00:05 (frag 12/53)[youtube] Chn5b0q3kvk: Downloading m3u8 information\n",
      "Deleting original file downloads/Midtown Playground.webm (pass -k to keep)\n",
      "🎵 Finished: https://www.youtube.com/watch?v=t8nZu2cYhxk Chris Stussy - Midtown Playground\n",
      "[download]  24.7% of ~   4.95MiB at  554.62KiB/s ETA 00:05 (frag 14/53)[info] Chn5b0q3kvk: Downloading 1 format(s): 251\n",
      "[download]  26.5% of ~   4.93MiB at  546.01KiB/s ETA 00:05 (frag 15/53)[download] Destination: downloads/Chris Lorenzo, Max Styler, Audio Bullys - London's On Fire (Official Visualizer).webm\n",
      "[download] 100% of    2.86MiB in 00:00:00 at 7.46MiB/s   5 (frag 18/53)\n",
      "[download]  34.1% of ~   4.86MiB at  559.44KiB/s ETA 00:05 (frag 19/53)[ExtractAudio] Destination: downloads/Chris Lorenzo, Max Styler, Audio Bullys - London's On Fire (Official Visualizer).mp3\n",
      "[download]  68.0% of ~   4.74MiB at  662.70KiB/s ETA 00:03 (frag 37/53)Deleting original file downloads/Chris Lorenzo, Max Styler, Audio Bullys - London's On Fire (Official Visualizer).webm (pass -k to keep)\n",
      "🎵 Finished: https://www.youtube.com/watch?v=Chn5b0q3kvk Chris Lorenzo, Max Styler, Audio Bullys - London's On Fire\n",
      "[download]  77.5% of ~   4.51MiB at  759.32KiB/s ETA 00:02 (frag 40/53)Deleting original file downloads/Riva De Biasio.webm (pass -k to keep)\n",
      "🎵 Finished: https://www.youtube.com/watch?v=mQAhr-y4704 Chris Stussy - Riva de Biasio\n",
      "[download] 100% of    4.66MiB in 00:00:06 at 713.32KiB/s               \n",
      "[ExtractAudio] Destination: downloads/UNRELEASED ｜ Chris Stussy - Time Warp, São Paulo.mp3\n",
      "Deleting original file downloads/UNRELEASED ｜ Chris Stussy - Time Warp, São Paulo.mp4 (pass -k to keep)\n",
      "🎵 Finished: https://www.youtube.com/watch?v=2D0eo0Igy9Y Chris Stussy - Unreleased Brasil Edit\n",
      "✅ All downloads attempted.\n"
     ]
    }
   ],
   "source": [
    "import yt_dlp\n",
    "import concurrent.futures\n",
    "import os\n",
    "\n",
    "# -------- CONFIGURATION --------\n",
    "OUTPUT_DIR = 'downloads'\n",
    "MAX_WORKERS = 4  # Number of parallel downloads\n",
    "SKIP_EXISTING = True  # Don't re-download files\n",
    "AUDIO_QUALITY = '192'  # kbps\n",
    "# --------------------------------\n",
    "\n",
    "def download_audio(url):\n",
    "    try:\n",
    "        ydl_opts = {\n",
    "            'format': 'bestaudio[ext=m4a]/bestaudio/best'\n",
    "            'outtmpl': f'{OUTPUT_DIR}/%(title)s.%(ext)s',\n",
    "            'ignoreerrors': True,  # Skip videos that can't be downloaded\n",
    "            'postprocessors': [\n",
    "                {\n",
    "                    'key': 'FFmpegExtractAudio',\n",
    "                    'preferredcodec': 'mp3',\n",
    "                    'preferredquality': AUDIO_QUALITY,\n",
    "                }\n",
    "            ],\n",
    "        }\n",
    "\n",
    "        # Skip if already exists\n",
    "        if SKIP_EXISTING:\n",
    "            # Rough check based on title (we’ll still rely on yt-dlp template)\n",
    "            with yt_dlp.YoutubeDL({'quiet': True}) as ydl:\n",
    "                info = ydl.extract_info(url, download=False)\n",
    "                if info:\n",
    "                    filename = os.path.join(OUTPUT_DIR, f\"{info['title']}.mp3\")\n",
    "                    if os.path.exists(filename):\n",
    "                        print(f\"✅ Skipped (already exists): {info['title']}\")\n",
    "                        return\n",
    "\n",
    "        with yt_dlp.YoutubeDL(ydl_opts) as ydl:\n",
    "            ydl.download([url])\n",
    "        print(f\"🎵 Finished: {url}\")\n",
    "\n",
    "    except Exception as e:\n",
    "        print(f\"❌ Failed: {url} | Error: {e}\")\n",
    "\n",
    "if __name__ == \"__main__\":\n",
    "    os.makedirs(OUTPUT_DIR, exist_ok=True)\n",
    "\n",
    "    # Load URLs from file\n",
    "    urls_file = \"urls.txt\"\n",
    "    with open(urls_file, \"r\") as f:\n",
    "        urls = [line.strip() for line in f if line.strip()]\n",
    "\n",
    "    print(f\"Starting download of {len(urls)} videos using {MAX_WORKERS} threads...\")\n",
    "\n",
    "    with concurrent.futures.ThreadPoolExecutor(max_workers=MAX_WORKERS) as executor:\n",
    "        executor.map(download_audio, urls)\n",
    "\n",
    "    print(\"✅ All downloads attempted.\")\n"
   ]
  }
 ],
 "metadata": {
  "kernelspec": {
   "display_name": "Python 3",
   "language": "python",
   "name": "python3"
  },
  "language_info": {
   "codemirror_mode": {
    "name": "ipython",
    "version": 3
   },
   "file_extension": ".py",
   "mimetype": "text/x-python",
   "name": "python",
   "nbconvert_exporter": "python",
   "pygments_lexer": "ipython3",
   "version": "3.12.4"
  }
 },
 "nbformat": 4,
 "nbformat_minor": 2
}
